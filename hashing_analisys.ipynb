{
 "cells": [
  {
   "cell_type": "code",
   "execution_count": 6,
   "id": "40603e7d-dc8b-4695-b51b-c317aae49154",
   "metadata": {},
   "outputs": [],
   "source": [
    "import pandas as pd\n",
    "import numpy as np\n",
    "import matplotlib.pyplot as plt\n",
    "import time\n",
    "from Linear_hashing import Linear_hashing\n",
    "\n",
    "np.random.seed(1)"
   ]
  },
  {
   "cell_type": "code",
   "execution_count": 23,
   "id": "50db4093-78d7-47af-8f65-59d2a76ca5ef",
   "metadata": {},
   "outputs": [],
   "source": [
    "def run_experiment(page_size,alpha_max):\n",
    "    linear_hash = Linear_hashing(page_size= page_size, m =2,alpha_max=alpha_max,alpha_min=0.5)\n",
    "    keys = np.random.choice(np.arange(1,1+ (page_size * 1000)), size=page_size * 1000, replace=False)\n",
    "    for key in keys:\n",
    "        linear_hash.insert(key)\n",
    "\n",
    "    mean_alpha = []\n",
    "    for _ in range(10):\n",
    "        mean_alpha.append(linear_hash.get_alpha_medio())\n",
    "    print(np.mean(mean_alpha))"
   ]
  },
  {
   "cell_type": "code",
   "execution_count": 24,
   "id": "083a4f6a-92e8-4c17-8a8c-71c311879981",
   "metadata": {},
   "outputs": [
    {
     "name": "stdout",
     "output_type": "stream",
     "text": [
      "0.2\n"
     ]
    }
   ],
   "source": [
    "run_experiment(1,0.2)"
   ]
  }
 ],
 "metadata": {
  "kernelspec": {
   "display_name": "Python 3 (ipykernel)",
   "language": "python",
   "name": "python3"
  },
  "language_info": {
   "codemirror_mode": {
    "name": "ipython",
    "version": 3
   },
   "file_extension": ".py",
   "mimetype": "text/x-python",
   "name": "python",
   "nbconvert_exporter": "python",
   "pygments_lexer": "ipython3",
   "version": "3.9.13"
  }
 },
 "nbformat": 4,
 "nbformat_minor": 5
}
